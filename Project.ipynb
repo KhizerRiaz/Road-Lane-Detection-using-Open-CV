{
 "cells": [
  {
   "cell_type": "markdown",
   "id": "51df075f",
   "metadata": {},
   "source": [
    "The algorithm has to detect the lane markings\n",
    "There are other techniques to achievw the final goals (edge detection kernel , transformations etc)"
   ]
  },
  {
   "cell_type": "markdown",
   "id": "ae15bb10",
   "metadata": {},
   "source": [
    "Canny Edge Detector Kernel :\n",
    "    \n",
    "it can detect edges like laplacian edge detector , more efficient than laplacian\n",
    "optimal cuz every edge is detected only once\n",
    "\n",
    "1: applying gaussian blue to reduce noise  (kernel size (5,5))\n",
    "    noise is basically false edge detection\n",
    "    so to remove noise , we must smoothen the image , just what gaussian blur does\n",
    "    \n",
    "2:find the intensity gradient of the image ( we have to use the kernel again - Sobel kernel)\n",
    "    \n",
    "3:non-maximum suppression :it removes the pixels that are not considered to be part of an edge so only edges with higher probability will remain . edge = object\n",
    "\n",
    "4:hysteresis:\n",
    "Pixel gradients higher than the upper treshold are accepted as an edge -> means if the difference (pixel intensities -> pixel gradients) between the neighbouring pixels is high , then theres a high prob that theres an edge . (100 ,255) -> edge\n",
    "if the pixel intensity is between lower and higher pixels then it will be accepted only if it is connected to a pixel that is above the upper treshold\n",
    "\n"
   ]
  },
  {
   "cell_type": "code",
   "execution_count": 1,
   "id": "d529db97",
   "metadata": {},
   "outputs": [
    {
     "name": "stderr",
     "output_type": "stream",
     "text": [
      "C:\\Users\\HP\\AppData\\Local\\Programs\\Python\\Python310\\lib\\site-packages\\numpy\\_distributor_init.py:30: UserWarning: loaded more than 1 DLL from .libs:\n",
      "C:\\Users\\HP\\AppData\\Local\\Programs\\Python\\Python310\\lib\\site-packages\\numpy\\.libs\\libopenblas.FB5AE2TYXYH2IJRDKGDGQ3XBKLKTF43H.gfortran-win_amd64.dll\n",
      "C:\\Users\\HP\\AppData\\Local\\Programs\\Python\\Python310\\lib\\site-packages\\numpy\\.libs\\libopenblas.XWYDX2IKJW2NMTWSFYNGFUWKQU3LYTCZ.gfortran-win_amd64.dll\n",
      "  warnings.warn(\"loaded more than 1 DLL from .libs:\"\n"
     ]
    }
   ],
   "source": [
    "import cv2\n",
    "import numpy as np\n",
    "import os"
   ]
  },
  {
   "cell_type": "code",
   "execution_count": 4,
   "id": "b204d81a",
   "metadata": {
    "scrolled": true
   },
   "outputs": [],
   "source": [
    "def draw_the_lines(image , lines):\n",
    "    lines_image = np.zeros((image.shape[0] , image.shape[1] , 3) , dtype = np.uint8)\n",
    "    \n",
    "    for line in lines: #x1,y1 = starting point , x2,y2 = end points\n",
    "        for x1,y1 , x2,y2 in line:                      #B  G R\n",
    "            cv2.line(lines_image , (x1,y1) , (x2,y2) , (0,0,255) , thickness = 3)\n",
    "    \n",
    "#     To merge the line                              0.8 and 1 is transparency\n",
    "#     print(image.shape)\n",
    "    image = cv2.cvtColor(image , cv2.COLOR_GRAY2RGB)\n",
    "#     print(image.shape)\n",
    "    image_with_lines = cv2.addWeighted(image , 0.8 , lines_image , 1 , 0.0)\n",
    "    \n",
    "    \n",
    "    return image_with_lines\n",
    "\n",
    "def region_of_interest(image , region_points):\n",
    "# there is no need for the whole image : we just want to consider the lanes , so:\n",
    "# we will create a mask and apply logical AND operator on the pixels \n",
    "    \n",
    "    mask = np.zeros_like(image) # array filled with 0(black) of dimensionality of image\n",
    "    \n",
    "    cv2.fillPoly(mask , region_points , 255) # fill the region_points with (255)white\n",
    "    \n",
    "    mask = cv2.bitwise_and(image , mask)\n",
    "    return mask\n",
    "\n",
    "def get_detected_lanes(image):\n",
    "    (height , width) = (image.shape[0] , image.shape[1])\n",
    "#     print(height , width)\n",
    "          \n",
    "#     image = np.float32(image)\n",
    "    image = cv2.cvtColor(image,cv2.COLOR_BGR2GRAY)    \n",
    "    canny_image = cv2.Canny(image,100,120)\n",
    "    \n",
    "    # we are going to define 3 point (left , middle , right) (polygon)\n",
    "    region_of_interest_vertices = [(0 , height) , (width/2 , height*0.65) , (width , height)]    \n",
    "    region_of_interest_vertices = np.array([region_of_interest_vertices] , np.int32)\n",
    "#     print(region_of_interest_vertices.shape)\n",
    "    cropped_image = region_of_interest(canny_image , region_of_interest_vertices)    \n",
    "    \n",
    "    #Hough Algorithm\n",
    "    \n",
    "    lines = cv2.HoughLinesP(cropped_image , rho = 2 , theta = np.pi/180 , threshold = 50 , lines = np.array([]) , minLineLength = 40 , maxLineGap = 150)\n",
    "    \n",
    "#     rho = r = distance from origin to line , the resolution of the parameter r in pixels\n",
    "#     theta = the resolution of the parameter degree(angle) in pixels\n",
    "#     threshold = the minimum no of intersections to detect a line\n",
    "#     minLineLength = 40 -> line length shorter than 40 are rejected\n",
    "#     maxLineGap -> max allowed gap between 2 lines\n",
    "    \n",
    "    image_with_lines = draw_the_lines(image , lines)\n",
    "    \n",
    "    return image_with_lines\n",
    "    \n",
    "    \n",
    "        \n",
    "# os.chdir('F:/python/Neural_Networks/Lane-Detection-using-OpenCV')\n",
    "# abs_path = os.path.abspath('F://python/Neural_Networks/Lane-Detection-using-OpenCV/abc.mp4')\n",
    "\n",
    "\n",
    "video = cv2.VideoCapture('abc.mp4')\n",
    "\n",
    "while video.isOpened():\n",
    "    \n",
    "    is_grabbed , frame = video.read() # is_grabbed = true if frame is detected\n",
    "    \n",
    "    if not is_grabbed : # is_grabbed will be false when video will be finished\n",
    "        break\n",
    "#     print(frame.shape)\n",
    "    frame = get_detected_lanes(frame)\n",
    "    \n",
    "    cv2.imshow(\"Lane Detection Video\" , frame)\n",
    "    cv2.waitKey(15)\n",
    "\n",
    "    \n",
    "video.release()    \n",
    "cv2.destroyAllWindows()\n"
   ]
  },
  {
   "cell_type": "markdown",
   "id": "e7c302c4",
   "metadata": {},
   "source": [
    "We have deal with the lines in the images . So we will apply hough algorithm . So after applying th edge detection kernel , we can find lines in the transformed image . "
   ]
  },
  {
   "cell_type": "code",
   "execution_count": 5,
   "id": "200588ce",
   "metadata": {},
   "outputs": [
    {
     "name": "stdout",
     "output_type": "stream",
     "text": [
      "[[0 1]\n",
      " [9 8]\n",
      " [5 5]]\n"
     ]
    }
   ],
   "source": []
  }
 ],
 "metadata": {
  "kernelspec": {
   "display_name": "Python 3 (ipykernel)",
   "language": "python",
   "name": "python3"
  },
  "language_info": {
   "codemirror_mode": {
    "name": "ipython",
    "version": 3
   },
   "file_extension": ".py",
   "mimetype": "text/x-python",
   "name": "python",
   "nbconvert_exporter": "python",
   "pygments_lexer": "ipython3",
   "version": "3.10.0"
  }
 },
 "nbformat": 4,
 "nbformat_minor": 5
}
